{
  "nbformat": 4,
  "nbformat_minor": 0,
  "metadata": {
    "colab": {
      "provenance": [],
      "gpuType": "V100",
      "authorship_tag": "ABX9TyMGIBPRhyTgebKEqXANUNsx",
      "include_colab_link": true
    },
    "kernelspec": {
      "name": "python3",
      "display_name": "Python 3"
    },
    "language_info": {
      "name": "python"
    },
    "accelerator": "GPU"
  },
  "cells": [
    {
      "cell_type": "markdown",
      "metadata": {
        "id": "view-in-github",
        "colab_type": "text"
      },
      "source": [
        "<a href=\"https://colab.research.google.com/github/gittimos/cuda-colab/blob/main/CUDA.ipynb\" target=\"_parent\"><img src=\"https://colab.research.google.com/assets/colab-badge.svg\" alt=\"Open In Colab\"/></a>"
      ]
    },
    {
      "cell_type": "markdown",
      "source": [
        "# How to run CUDA in a Colab notebook\n",
        "\n",
        "Develop and test high-performance CUDA applications directly within a browser, without the need for local GPU resources.\n",
        "\n",
        "This is a companion to my [blog post](https://moritzstrube.substack.com/publish/post/142751435), which contains a more detailed explanation and many valuable links."
      ],
      "metadata": {
        "id": "eCyepK-ESmbx"
      }
    },
    {
      "cell_type": "markdown",
      "source": [
        " ### Installing nvcc4jupyter\n",
        "\n",
        " First, you need to install the nvcc4jupyter plugin in your Colab notebook. This can be done by running"
      ],
      "metadata": {
        "id": "qH5iQKzoSycV"
      }
    },
    {
      "cell_type": "code",
      "source": [
        "pip install nvcc4jupyter\n"
      ],
      "metadata": {
        "colab": {
          "base_uri": "https://localhost:8080/"
        },
        "id": "p81VKH1G-omV",
        "outputId": "df67021b-431e-4b71-e861-37e5b6f6156a"
      },
      "execution_count": 1,
      "outputs": [
        {
          "output_type": "stream",
          "name": "stdout",
          "text": [
            "Collecting nvcc4jupyter\n",
            "  Downloading nvcc4jupyter-1.1.0-py3-none-any.whl (8.0 kB)\n",
            "Installing collected packages: nvcc4jupyter\n",
            "Successfully installed nvcc4jupyter-1.1.0\n"
          ]
        }
      ]
    },
    {
      "cell_type": "markdown",
      "source": [
        "### Loading the Extension\n",
        "After installation, load the extension by running the following cell:"
      ],
      "metadata": {
        "id": "YfQJHHJsS7zQ"
      }
    },
    {
      "cell_type": "code",
      "source": [
        "%load_ext nvcc4jupyter"
      ],
      "metadata": {
        "colab": {
          "base_uri": "https://localhost:8080/"
        },
        "id": "UZGNoWYp-wG6",
        "outputId": "4b90f43c-5c8c-4a76-9fe0-7a09e4476965"
      },
      "execution_count": 2,
      "outputs": [
        {
          "output_type": "stream",
          "name": "stdout",
          "text": [
            "Source files will be saved in \"/tmp/tmpephyocu9\".\n"
          ]
        }
      ]
    },
    {
      "cell_type": "markdown",
      "source": [
        "### Writing CUDA Code\n",
        "\n",
        "Now, you're ready to write your CUDA code. Use the %%cuda magic command at the beginning of a cell to indicate that the following code is CUDA C++ code:"
      ],
      "metadata": {
        "id": "nIjWgKhkTllP"
      }
    },
    {
      "cell_type": "code",
      "source": [
        "%%cuda\n",
        "#include <stdio.h>\n",
        "\n",
        "__global__ void hello(){\n",
        "    printf(\"Hello from block: %u, thread: %u\\n\", blockIdx.x, threadIdx.x);\n",
        "}\n",
        "\n",
        "int main(){\n",
        "    hello<<<2, 2>>>();\n",
        "    cudaDeviceSynchronize();\n",
        "}"
      ],
      "metadata": {
        "colab": {
          "base_uri": "https://localhost:8080/"
        },
        "id": "_VIxftF2AEXO",
        "outputId": "75171efe-6a97-4931-f153-d0cec9cf7ccb"
      },
      "execution_count": 3,
      "outputs": [
        {
          "output_type": "stream",
          "name": "stdout",
          "text": [
            "Hello from block: 0, thread: 0\n",
            "Hello from block: 0, thread: 1\n",
            "Hello from block: 1, thread: 0\n",
            "Hello from block: 1, thread: 1\n",
            "\n"
          ]
        }
      ]
    },
    {
      "cell_type": "markdown",
      "source": [
        "### Compiling with nvcc Arguments\n",
        "The line `%%cuda -c \"-l curand\"` compiles the code with Nvidia’s cuRAND library for generating random numbers:"
      ],
      "metadata": {
        "id": "fi3JiA_1T0sz"
      }
    },
    {
      "cell_type": "code",
      "source": [
        "%%cuda -c \"-l curand\"\n",
        "/*\n",
        " * This program uses the host CURAND API to generate 100\n",
        " * pseudorandom floats.\n",
        " */\n",
        "#include <stdio.h>\n",
        "#include <stdlib.h>\n",
        "#include <cuda.h>\n",
        "#include <curand.h>\n",
        "\n",
        "#define CUDA_CALL(x) do { if((x)!=cudaSuccess) { \\\n",
        "    printf(\"Error at %s:%d\\n\",__FILE__,__LINE__);\\\n",
        "    return EXIT_FAILURE;}} while(0)\n",
        "#define CURAND_CALL(x) do { if((x)!=CURAND_STATUS_SUCCESS) { \\\n",
        "    printf(\"Error at %s:%d\\n\",__FILE__,__LINE__);\\\n",
        "    return EXIT_FAILURE;}} while(0)\n",
        "\n",
        "int main(int argc, char *argv[])\n",
        "{\n",
        "    size_t n = 100;\n",
        "    size_t i;\n",
        "    curandGenerator_t gen;\n",
        "    float *devData, *hostData;\n",
        "\n",
        "    /* Allocate n floats on host */\n",
        "    hostData = (float *)calloc(n, sizeof(float));\n",
        "\n",
        "    /* Allocate n floats on device */\n",
        "    CUDA_CALL(cudaMalloc((void **)&devData, n*sizeof(float)));\n",
        "\n",
        "    /* Create pseudo-random number generator */\n",
        "    CURAND_CALL(curandCreateGenerator(&gen,\n",
        "                CURAND_RNG_PSEUDO_DEFAULT));\n",
        "\n",
        "    /* Set seed */\n",
        "    CURAND_CALL(curandSetPseudoRandomGeneratorSeed(gen,\n",
        "                1234ULL));\n",
        "\n",
        "    /* Generate n floats on device */\n",
        "    CURAND_CALL(curandGenerateUniform(gen, devData, n));\n",
        "\n",
        "    /* Copy device memory to host */\n",
        "    CUDA_CALL(cudaMemcpy(hostData, devData, n * sizeof(float),\n",
        "        cudaMemcpyDeviceToHost));\n",
        "\n",
        "    /* Show result */\n",
        "    for(i = 0; i < n; i++) {\n",
        "        printf(\"%1.4f \", hostData[i]);\n",
        "    }\n",
        "    printf(\"\\n\");\n",
        "\n",
        "    /* Cleanup */\n",
        "    CURAND_CALL(curandDestroyGenerator(gen));\n",
        "    CUDA_CALL(cudaFree(devData));\n",
        "    free(hostData);\n",
        "    return EXIT_SUCCESS;\n",
        "}"
      ],
      "metadata": {
        "colab": {
          "base_uri": "https://localhost:8080/"
        },
        "id": "4VW7a3HB_Ou5",
        "outputId": "4ae556c9-21d9-4d44-b655-1f4937fc0732"
      },
      "execution_count": 4,
      "outputs": [
        {
          "output_type": "stream",
          "name": "stdout",
          "text": [
            "0.1455 0.8202 0.5504 0.2948 0.9147 0.8690 0.3219 0.7829 0.0113 0.2855 0.7816 0.2338 0.6791 0.2824 0.6299 0.1212 0.4333 0.3831 0.5136 0.2987 0.4166 0.0345 0.0494 0.0467 0.6166 0.6480 0.8685 0.4012 0.0631 0.4972 0.6809 0.9350 0.0704 0.0458 0.1324 0.3785 0.6457 0.9930 0.9952 0.7677 0.3217 0.8210 0.2765 0.2691 0.4579 0.1969 0.9555 0.8739 0.7996 0.3810 0.6662 0.3153 0.9428 0.5006 0.3369 0.1490 0.8637 0.6191 0.6820 0.4573 0.9261 0.5650 0.7117 0.8252 0.8755 0.2216 0.2958 0.4046 0.3896 0.7335 0.7301 0.8154 0.0913 0.0866 0.6974 0.1811 0.5834 0.9255 0.9029 0.0413 0.9522 0.5507 0.7237 0.3976 0.7519 0.4398 0.4638 0.6094 0.7358 0.3272 0.6961 0.4893 0.9698 0.0456 0.2025 0.9491 0.1516 0.0424 0.6149 0.5638 \n",
            "\n"
          ]
        }
      ]
    }
  ]
}